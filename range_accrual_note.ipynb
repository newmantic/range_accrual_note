{
  "nbformat": 4,
  "nbformat_minor": 0,
  "metadata": {
    "colab": {
      "provenance": [],
      "authorship_tag": "ABX9TyOFV7cORKjuBTQorzZ8myma",
      "include_colab_link": true
    },
    "kernelspec": {
      "name": "python3",
      "display_name": "Python 3"
    },
    "language_info": {
      "name": "python"
    }
  },
  "cells": [
    {
      "cell_type": "markdown",
      "metadata": {
        "id": "view-in-github",
        "colab_type": "text"
      },
      "source": [
        "<a href=\"https://colab.research.google.com/github/newmantic/range_accrual_note/blob/main/range_accrual_note.ipynb\" target=\"_parent\"><img src=\"https://colab.research.google.com/assets/colab-badge.svg\" alt=\"Open In Colab\"/></a>"
      ]
    },
    {
      "cell_type": "code",
      "execution_count": 1,
      "metadata": {
        "colab": {
          "base_uri": "https://localhost:8080/"
        },
        "id": "1iH1R-SEe5Ea",
        "outputId": "72110f1a-db8a-4ac3-f780-01b3aa48ac71"
      },
      "outputs": [
        {
          "output_type": "stream",
          "name": "stdout",
          "text": [
            "Interest Accrued: $41666.67\n"
          ]
        }
      ],
      "source": [
        "import numpy as np\n",
        "\n",
        "class RangeAccrualNote:\n",
        "    def __init__(self, lower_bound, upper_bound, coupon_rate, notional, observation_days):\n",
        "        \"\"\"\n",
        "        Initializes the Range Accrual Note.\n",
        "\n",
        "        :param lower_bound: The lower bound of the interest rate range\n",
        "        :param upper_bound: The upper bound of the interest rate range\n",
        "        :param coupon_rate: The annual coupon rate\n",
        "        :param notional: The notional amount of the note\n",
        "        :param observation_days: The number of days on which the rate is observed\n",
        "        \"\"\"\n",
        "        self.lower_bound = lower_bound\n",
        "        self.upper_bound = upper_bound\n",
        "        self.coupon_rate = coupon_rate\n",
        "        self.notional = notional\n",
        "        self.observation_days = observation_days\n",
        "\n",
        "    def calculate_interest_accrual(self, reference_rates):\n",
        "        \"\"\"\n",
        "        Calculates the interest accrued based on whether the reference rate stays within the specified range.\n",
        "\n",
        "        :param reference_rates: A list or array of observed reference rates\n",
        "        :return: The interest accrued over the period\n",
        "        \"\"\"\n",
        "        days_in_range = np.sum((reference_rates >= self.lower_bound) & (reference_rates <= self.upper_bound))\n",
        "        accrual_fraction = days_in_range / self.observation_days\n",
        "        interest_accrued = accrual_fraction * self.coupon_rate * self.notional\n",
        "        return interest_accrued\n",
        "\n",
        "# Example usage\n",
        "if __name__ == \"__main__\":\n",
        "    # Example data: simulated reference rates over 30 days\n",
        "    reference_rates = np.array([1.5, 1.6, 1.4, 1.7, 1.8, 1.9, 1.6, 1.5, 1.7, 1.4, 1.6, 1.5, 1.6, 1.4, 1.5,\n",
        "                                1.7, 1.8, 1.6, 1.4, 1.6, 1.5, 1.7, 1.5, 1.6, 1.4, 1.7, 1.6, 1.8, 1.9, 1.5])\n",
        "\n",
        "    # Define a range accrual note with the following parameters:\n",
        "    # - Lower bound: 1.4%\n",
        "    # - Upper bound: 1.7%\n",
        "    # - Coupon rate: 5% annually\n",
        "    # - Notional: $1,000,000\n",
        "    # - Observation days: 30\n",
        "\n",
        "    note = RangeAccrualNote(\n",
        "        lower_bound=1.4,\n",
        "        upper_bound=1.7,\n",
        "        coupon_rate=0.05,\n",
        "        notional=1000000,\n",
        "        observation_days=30\n",
        "    )\n",
        "\n",
        "    interest_accrued = note.calculate_interest_accrual(reference_rates)\n",
        "    print(f\"Interest Accrued: ${interest_accrued:.2f}\")"
      ]
    }
  ]
}